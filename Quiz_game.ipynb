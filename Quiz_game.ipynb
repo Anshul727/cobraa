{
 "cells": [
  {
   "cell_type": "code",
   "execution_count": 1,
   "id": "1c057b15",
   "metadata": {},
   "outputs": [
    {
     "name": "stdout",
     "output_type": "stream",
     "text": [
      "Welcome to this quiz game!\n",
      "Do you want to play? yes\n",
      "Okay! Let's play :)\n",
      "What does IDE stand for? integrated development environment\n",
      "Correct!\n",
      "What does OOP stand for? object oriented programming\n",
      "Correct!\n",
      "What does DBMS stand for? database management system\n",
      "Correct!\n",
      "What does SQL stand for? structured query language\n",
      "Correct!\n",
      "What does FIFO stand for? first in first out\n",
      "Correct!\n",
      "You got 5 questions correct!\n",
      "You got 100.0%.\n"
     ]
    }
   ],
   "source": [
    "print(\"Welcome to this quiz game!\")\n",
    "\n",
    "playing = input(\"Do you want to play? \")\n",
    "\n",
    "if playing.lower() != \"yes\":\n",
    "    quit()\n",
    "\n",
    "print(\"Okay! Let's play :)\")\n",
    "score = 0\n",
    "\n",
    "answer = input(\"What does IDE stand for? \")\n",
    "if answer.lower() == \"integrated development environment\":\n",
    "    print('Correct!')\n",
    "    score += 1\n",
    "else:\n",
    "    print(\"Incorrect!\")\n",
    "\n",
    "answer = input(\"What does OOP stand for? \")\n",
    "if answer.lower() == \"object oriented programming\":\n",
    "    print('Correct!')\n",
    "    score += 1\n",
    "else:\n",
    "    print(\"Incorrect!\")\n",
    "\n",
    "answer = input(\"What does DBMS stand for? \")\n",
    "if answer.lower() == \"database management system\":\n",
    "    print('Correct!')\n",
    "    score += 1\n",
    "else:\n",
    "    print(\"Incorrect!\")\n",
    "\n",
    "answer = input(\"What does SQL stand for? \")\n",
    "if answer.lower() == \"structured query language\":\n",
    "    print('Correct!')\n",
    "    score += 1\n",
    "else:\n",
    "    print(\"Incorrect!\")\n",
    "    \n",
    "answer = input(\"What does FIFO stand for? \")\n",
    "if answer.lower() == \"first in first out\":\n",
    "    print('Correct!')\n",
    "    score += 1\n",
    "else:\n",
    "    print(\"Incorrect!\")\n",
    "\n",
    "print(\"You got \" + str(score) + \" questions correct!\")\n",
    "print(\"You got \" + str((score / 5) * 100) + \"%.\")"
   ]
  },
  {
   "cell_type": "code",
   "execution_count": null,
   "id": "f1dcabbc",
   "metadata": {},
   "outputs": [],
   "source": []
  }
 ],
 "metadata": {
  "kernelspec": {
   "display_name": "Python 3 (ipykernel)",
   "language": "python",
   "name": "python3"
  },
  "language_info": {
   "codemirror_mode": {
    "name": "ipython",
    "version": 3
   },
   "file_extension": ".py",
   "mimetype": "text/x-python",
   "name": "python",
   "nbconvert_exporter": "python",
   "pygments_lexer": "ipython3",
   "version": "3.9.12"
  }
 },
 "nbformat": 4,
 "nbformat_minor": 5
}
